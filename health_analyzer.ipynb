{
 "cells": [
  {
   "cell_type": "markdown",
   "id": "8c5e0667",
   "metadata": {},
   "source": [
    "# Apple Health Intelligence System\n"
   ]
  },
  {
   "cell_type": "markdown",
   "id": "2ecc796a",
   "metadata": {},
   "source": [
    "## 1. Data Extraction"
   ]
  },
  {
   "cell_type": "code",
   "execution_count": 1,
   "id": "827e942a",
   "metadata": {},
   "outputs": [],
   "source": [
    "import xml.etree.ElementTree as ET\n",
    "import pandas as pd\n",
    "\n",
    "\n",
    "def extract_health_data(xml_path=\"apple_health_export.xml\"):\n",
    "    \"\"\"Parse Apple Health data directly from XML file\"\"\"\n",
    "    # Define comprehensive health metrics\n",
    "    HEALTH_METRICS = {\n",
    "        # Activity\n",
    "        \"HKQuantityTypeIdentifierStepCount\": \"steps\",\n",
    "        \"HKQuantityTypeIdentifierDistanceWalkingRunning\": \"distance\",\n",
    "        \"HKQuantityTypeIdentifierFlightsClimbed\": \"flights\",\n",
    "        \"HKQuantityTypeIdentifierActiveEnergyBurned\": \"active_cal\",\n",
    "        \"HKQuantityTypeIdentifierBasalEnergyBurned\": \"basal_cal\",\n",
    "        \"HKQuantityTypeIdentifierAppleExerciseTime\": \"exercise_min\",\n",
    "        \"HKQuantityTypeIdentifierVO2Max\": \"vo2_max\",\n",
    "        # Vitals\n",
    "        \"HKQuantityTypeIdentifierHeartRate\": \"heart_rate\",\n",
    "        \"HKQuantityTypeIdentifierRestingHeartRate\": \"resting_hr\",\n",
    "        \"HKQuantityTypeIdentifierWalkingHeartRateAverage\": \"walking_hr\",\n",
    "        \"HKQuantityTypeIdentifierBloodPressureSystolic\": \"bp_systolic\",\n",
    "        \"HKQuantityTypeIdentifierBloodPressureDiastolic\": \"bp_diastolic\",\n",
    "        \"HKQuantityTypeIdentifierBloodOxygenSaturation\": \"spo2\",\n",
    "        \"HKQuantityTypeIdentifierBodyTemperature\": \"body_temp\",\n",
    "        \"HKQuantityTypeIdentifierRespiratoryRate\": \"resp_rate\",\n",
    "        \"HKQuantityTypeIdentifierHeartRateVariabilitySDNN\": \"hrv\",\n",
    "        # Body\n",
    "        \"HKQuantityTypeIdentifierBodyMass\": \"weight\",\n",
    "        \"HKQuantityTypeIdentifierBodyFatPercentage\": \"body_fat\",\n",
    "        \"HKQuantityTypeIdentifierLeanBodyMass\": \"lean_mass\",\n",
    "        \"HKQuantityTypeIdentifierBodyMassIndex\": \"bmi\",\n",
    "        \"HKQuantityTypeIdentifierHeight\": \"height\",\n",
    "        # Sleep\n",
    "        \"HKCategoryTypeIdentifierSleepAnalysis\": \"sleep\",\n",
    "        # Nutrition\n",
    "        \"HKQuantityTypeIdentifierDietaryEnergyConsumed\": \"calories_consumed\",\n",
    "        \"HKQuantityTypeIdentifierDietaryCarbohydrates\": \"carbs\",\n",
    "        \"HKQuantityTypeIdentifierDietaryProtein\": \"protein\",\n",
    "        \"HKQuantityTypeIdentifierDietaryFatTotal\": \"fat\",\n",
    "        # Mindfulness\n",
    "        \"HKCategoryTypeIdentifierMindfulSession\": \"mindfulness\",\n",
    "        # Reproductive\n",
    "        \"HKCategoryTypeIdentifierOvulationTestResult\": \"ovulation_test\",\n",
    "        \"HKCategoryTypeIdentifierMenstrualFlow\": \"menstrual_flow\",\n",
    "    }\n",
    "\n",
    "    print(\n",
    "        f\"⏳ Parsing XML file: {xml_path} (this may take several minutes for large files)\"\n",
    "    )\n",
    "\n",
    "    # Parse XML data directly\n",
    "    tree = ET.parse(xml_path)\n",
    "    root = tree.getroot()\n",
    "\n",
    "    records = []\n",
    "    for i, record in enumerate(root.findall(\"Record\")):\n",
    "        if i % 10000 == 0:  # Print progress periodically\n",
    "            print(f\"📊 Processed {i} records...\")\n",
    "\n",
    "        record_type = record.get(\"type\")\n",
    "        if record_type not in HEALTH_METRICS:\n",
    "            continue\n",
    "\n",
    "        # Get value and handle special cases\n",
    "        value = record.get(\"value\")\n",
    "        if not value:\n",
    "            continue\n",
    "\n",
    "        # Calculate duration-based metrics\n",
    "        if record_type == \"HKCategoryTypeIdentifierSleepAnalysis\":\n",
    "            start = pd.to_datetime(record.get(\"startDate\"))\n",
    "            end = pd.to_datetime(record.get(\"endDate\"))\n",
    "            value = (end - start).total_seconds() / 3600  # hours\n",
    "        elif record_type == \"HKCategoryTypeIdentifierMindfulSession\":\n",
    "            start = pd.to_datetime(record.get(\"startDate\"))\n",
    "            end = pd.to_datetime(record.get(\"endDate\"))\n",
    "            value = (end - start).total_seconds() / 60  # minutes\n",
    "\n",
    "        records.append(\n",
    "            {\n",
    "                \"type\": HEALTH_METRICS[record_type],\n",
    "                \"date\": pd.to_datetime(record.get(\"startDate\")).normalize(),\n",
    "                \"value\": float(value),\n",
    "                \"unit\": record.get(\"unit\", \"\"),\n",
    "                \"source\": record.get(\"sourceName\", \"\"),\n",
    "            }\n",
    "        )\n",
    "\n",
    "    print(f\"✅ Parsing complete! Total records: {len(records)}\")\n",
    "    return pd.DataFrame(records)"
   ]
  },
  {
   "cell_type": "code",
   "execution_count": 2,
   "id": "9cb08fb6",
   "metadata": {},
   "outputs": [
    {
     "name": "stdout",
     "output_type": "stream",
     "text": [
      "⏳ Parsing XML file: apple_health_export.xml (this may take several minutes for large files)\n"
     ]
    },
    {
     "ename": "FileNotFoundError",
     "evalue": "[Errno 2] No such file or directory: 'apple_health_export.xml'",
     "output_type": "error",
     "traceback": [
      "\u001b[0;31m---------------------------------------------------------------------------\u001b[0m",
      "\u001b[0;31mFileNotFoundError\u001b[0m                         Traceback (most recent call last)",
      "Cell \u001b[0;32mIn[2], line 2\u001b[0m\n\u001b[1;32m      1\u001b[0m \u001b[38;5;66;03m# [Cell 2] Execute extraction\u001b[39;00m\n\u001b[0;32m----> 2\u001b[0m health_df \u001b[38;5;241m=\u001b[39m \u001b[43mextract_health_data\u001b[49m\u001b[43m(\u001b[49m\u001b[43m)\u001b[49m\n\u001b[1;32m      3\u001b[0m health_df\u001b[38;5;241m.\u001b[39mhead()\n",
      "Cell \u001b[0;32mIn[1], line 52\u001b[0m, in \u001b[0;36mextract_health_data\u001b[0;34m(xml_path)\u001b[0m\n\u001b[1;32m     47\u001b[0m \u001b[38;5;28mprint\u001b[39m(\n\u001b[1;32m     48\u001b[0m     \u001b[38;5;124mf\u001b[39m\u001b[38;5;124m\"\u001b[39m\u001b[38;5;124m⏳ Parsing XML file: \u001b[39m\u001b[38;5;132;01m{\u001b[39;00mxml_path\u001b[38;5;132;01m}\u001b[39;00m\u001b[38;5;124m (this may take several minutes for large files)\u001b[39m\u001b[38;5;124m\"\u001b[39m\n\u001b[1;32m     49\u001b[0m )\n\u001b[1;32m     51\u001b[0m \u001b[38;5;66;03m# Parse XML data directly\u001b[39;00m\n\u001b[0;32m---> 52\u001b[0m tree \u001b[38;5;241m=\u001b[39m \u001b[43mET\u001b[49m\u001b[38;5;241;43m.\u001b[39;49m\u001b[43mparse\u001b[49m\u001b[43m(\u001b[49m\u001b[43mxml_path\u001b[49m\u001b[43m)\u001b[49m\n\u001b[1;32m     53\u001b[0m root \u001b[38;5;241m=\u001b[39m tree\u001b[38;5;241m.\u001b[39mgetroot()\n\u001b[1;32m     55\u001b[0m records \u001b[38;5;241m=\u001b[39m []\n",
      "File \u001b[0;32m~/miniforge3/lib/python3.10/xml/etree/ElementTree.py:1222\u001b[0m, in \u001b[0;36mparse\u001b[0;34m(source, parser)\u001b[0m\n\u001b[1;32m   1213\u001b[0m \u001b[38;5;250m\u001b[39m\u001b[38;5;124;03m\"\"\"Parse XML document into element tree.\u001b[39;00m\n\u001b[1;32m   1214\u001b[0m \n\u001b[1;32m   1215\u001b[0m \u001b[38;5;124;03m*source* is a filename or file object containing XML data,\u001b[39;00m\n\u001b[0;32m   (...)\u001b[0m\n\u001b[1;32m   1219\u001b[0m \n\u001b[1;32m   1220\u001b[0m \u001b[38;5;124;03m\"\"\"\u001b[39;00m\n\u001b[1;32m   1221\u001b[0m tree \u001b[38;5;241m=\u001b[39m ElementTree()\n\u001b[0;32m-> 1222\u001b[0m \u001b[43mtree\u001b[49m\u001b[38;5;241;43m.\u001b[39;49m\u001b[43mparse\u001b[49m\u001b[43m(\u001b[49m\u001b[43msource\u001b[49m\u001b[43m,\u001b[49m\u001b[43m \u001b[49m\u001b[43mparser\u001b[49m\u001b[43m)\u001b[49m\n\u001b[1;32m   1223\u001b[0m \u001b[38;5;28;01mreturn\u001b[39;00m tree\n",
      "File \u001b[0;32m~/miniforge3/lib/python3.10/xml/etree/ElementTree.py:569\u001b[0m, in \u001b[0;36mElementTree.parse\u001b[0;34m(self, source, parser)\u001b[0m\n\u001b[1;32m    567\u001b[0m close_source \u001b[38;5;241m=\u001b[39m \u001b[38;5;28;01mFalse\u001b[39;00m\n\u001b[1;32m    568\u001b[0m \u001b[38;5;28;01mif\u001b[39;00m \u001b[38;5;129;01mnot\u001b[39;00m \u001b[38;5;28mhasattr\u001b[39m(source, \u001b[38;5;124m\"\u001b[39m\u001b[38;5;124mread\u001b[39m\u001b[38;5;124m\"\u001b[39m):\n\u001b[0;32m--> 569\u001b[0m     source \u001b[38;5;241m=\u001b[39m \u001b[38;5;28;43mopen\u001b[39;49m\u001b[43m(\u001b[49m\u001b[43msource\u001b[49m\u001b[43m,\u001b[49m\u001b[43m \u001b[49m\u001b[38;5;124;43m\"\u001b[39;49m\u001b[38;5;124;43mrb\u001b[39;49m\u001b[38;5;124;43m\"\u001b[39;49m\u001b[43m)\u001b[49m\n\u001b[1;32m    570\u001b[0m     close_source \u001b[38;5;241m=\u001b[39m \u001b[38;5;28;01mTrue\u001b[39;00m\n\u001b[1;32m    571\u001b[0m \u001b[38;5;28;01mtry\u001b[39;00m:\n",
      "\u001b[0;31mFileNotFoundError\u001b[0m: [Errno 2] No such file or directory: 'apple_health_export.xml'"
     ]
    }
   ],
   "source": [
    "# [Cell 2] Execute extraction\n",
    "health_df = extract_health_data()\n",
    "health_df.head()"
   ]
  },
  {
   "cell_type": "code",
   "execution_count": null,
   "id": "29595ed5",
   "metadata": {},
   "outputs": [],
   "source": []
  }
 ],
 "metadata": {
  "kernelspec": {
   "display_name": "base",
   "language": "python",
   "name": "python3"
  },
  "language_info": {
   "codemirror_mode": {
    "name": "ipython",
    "version": 3
   },
   "file_extension": ".py",
   "mimetype": "text/x-python",
   "name": "python",
   "nbconvert_exporter": "python",
   "pygments_lexer": "ipython3",
   "version": "3.10.9"
  }
 },
 "nbformat": 4,
 "nbformat_minor": 5
}
